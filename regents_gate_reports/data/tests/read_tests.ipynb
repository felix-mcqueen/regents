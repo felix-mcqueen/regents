{
 "cells": [
  {
   "cell_type": "code",
   "execution_count": null,
   "id": "923ab9cf",
   "metadata": {},
   "outputs": [],
   "source": [
    "import pandas as pd\n",
    "companies = r'C:\\Users\\felix.mcdonald\\Projects\\regent\\regents_gate_reports\\data\\raw\\companies\\companies.csv'"
   ]
  },
  {
   "cell_type": "code",
   "execution_count": null,
   "id": "cc4e12fe",
   "metadata": {},
   "outputs": [],
   "source": [
    "companies_df = pd.read_csv(companies)"
   ]
  },
  {
   "cell_type": "code",
   "execution_count": null,
   "id": "c0201d2b",
   "metadata": {},
   "outputs": [],
   "source": [
    "companies_df.head(10)"
   ]
  },
  {
   "cell_type": "code",
   "execution_count": 30,
   "id": "7d3a3559",
   "metadata": {},
   "outputs": [],
   "source": [
    "people = r'C:\\Users\\felix.mcdonald\\Projects\\regent\\regents_gate_reports\\data\\raw\\people\\Allen-Mcguire.json'"
   ]
  },
  {
   "cell_type": "code",
   "execution_count": 31,
   "id": "a110acc8",
   "metadata": {},
   "outputs": [],
   "source": [
    "people_df = pd.read_csv(people)"
   ]
  },
  {
   "cell_type": "code",
   "execution_count": null,
   "id": "1a852e83",
   "metadata": {},
   "outputs": [],
   "source": [
    "from pathlib import Path\n",
    "import pandas as pd\n",
    "import json\n",
    "\n",
    "DATA_DIR = Path(\"C:/Users/felix.mcdonald/Projects/regent/regents_gate_reports/data/raw\")\n"
   ]
  },
  {
   "cell_type": "code",
   "execution_count": null,
   "id": "36d49aa5",
   "metadata": {},
   "outputs": [],
   "source": [
    "\"\"\"WORKING\"\"\"\n",
    "def load_companies():\n",
    "    # Find the single CSV file in companies/\n",
    "    csv_file = next((DATA_DIR / \"companies\").glob(\"*.csv\"))\n",
    "    df = pd.read_csv(csv_file)\n",
    "    return df\n"
   ]
  },
  {
   "cell_type": "code",
   "execution_count": null,
   "id": "f75729c0",
   "metadata": {},
   "outputs": [],
   "source": [
    "\"\"\"WORKING\"\"\"\n",
    "def load_people():\n",
    "    people_dir = DATA_DIR / \"people\"\n",
    "    people = []\n",
    "    for file in people_dir.glob(\"*.json\"):\n",
    "        with open(file) as f:\n",
    "            record = json.load(f)\n",
    "            people.append(record)\n",
    "    return people  # list of dicts"
   ]
  },
  {
   "cell_type": "code",
   "execution_count": null,
   "id": "5fbec6d9",
   "metadata": {},
   "outputs": [],
   "source": [
    "\"\"\"WORKING\"\"\"\n",
    "\n",
    "def load_market_data():\n",
    "    return pd.concat([\n",
    "        pd.read_parquet(f)\n",
    "        for f in sorted((DATA_DIR / \"market_data\").glob(\"*.parquet\"))\n",
    "    ])\n"
   ]
  },
  {
   "cell_type": "code",
   "execution_count": null,
   "id": "ebafadf4",
   "metadata": {},
   "outputs": [],
   "source": [
    "def load_financials():\n",
    "    records = {}\n",
    "    for file in (DATA_DIR / \"financial_statements\").glob(\"*.xlsx\"):\n",
    "        records[file.stem] = pd.read_excel(file, sheet_name=None)  # dict of DataFrames\n",
    "    return records"
   ]
  }
 ],
 "metadata": {
  "kernelspec": {
   "display_name": "Python 3",
   "language": "python",
   "name": "python3"
  },
  "language_info": {
   "codemirror_mode": {
    "name": "ipython",
    "version": 3
   },
   "file_extension": ".py",
   "mimetype": "text/x-python",
   "name": "python",
   "nbconvert_exporter": "python",
   "pygments_lexer": "ipython3",
   "version": "3.11.4"
  }
 },
 "nbformat": 4,
 "nbformat_minor": 5
}

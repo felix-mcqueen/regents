{
 "cells": [
  {
   "cell_type": "code",
   "execution_count": 2,
   "id": "3bac66ec",
   "metadata": {},
   "outputs": [],
   "source": [
    "from jinja2 import Environment, FileSystemLoader\n",
    "import pandas as pd\n",
    "from pathlib import Path\n",
    "\n",
    "def generate_report(company: str, year: int):\n",
    "    base_path = Path(f\"data/processed/{company}\")\n",
    "    env = Environment(loader=FileSystemLoader(\"templates\"))\n",
    "    template = env.get_template(\"report.html\")\n",
    "\n",
    "    profile = pd.read_csv(base_path / \"profile.csv\").iloc[0]\n",
    "    people = pd.read_csv(base_path / \"people.csv\")\n",
    "    financials = pd.read_csv(base_path / \"financials.csv\")\n",
    "    financials = financials[financials[\"quarter\"].str.contains(str(year))]\n",
    "    market = pd.read_csv(base_path / \"market_data.csv\", parse_dates=[\"date\"])\n",
    "    market = market[market[\"date\"].dt.year == year].sort_values(\"date\")\n",
    "\n",
    "    # Rebase and plot\n",
    "    if not market.empty:\n",
    "        market[\"rebased\"] = 100 * market[\"last_price\"] / market[\"last_price\"].iloc[0]\n",
    "\n",
    "        import matplotlib.pyplot as plt\n",
    "        plt.figure(figsize=(8, 3))\n",
    "        plt.plot(market[\"date\"], market[\"rebased\"])\n",
    "        plt.title(f\"{company} Stock Price - {year}\")\n",
    "        plt.grid(True)\n",
    "        plt.tight_layout()\n",
    "        plt.savefig(base_path / f\"chart_{year}.png\")\n",
    "        plt.close()\n",
    "\n",
    "    html = template.render(\n",
    "        company=company,\n",
    "        year=year,\n",
    "        profile=profile,\n",
    "        people=people.to_dict(orient=\"records\"),\n",
    "        financials=financials.to_dict(orient=\"records\")\n",
    "    )\n",
    "\n",
    "    with open(base_path / f\"report_{year}.html\", \"w\") as f:\n",
    "        f.write(html)\n"
   ]
  },
  {
   "cell_type": "code",
   "execution_count": 3,
   "metadata": {},
   "outputs": [],
   "source": [
    "generate_report(\"Charles-Jackson\", 2020)"
   ]
  },
  {
   "cell_type": "code",
   "execution_count": null,
   "id": "3d88f317",
   "metadata": {},
   "outputs": [],
   "source": []
  }
 ],
 "metadata": {
  "kernelspec": {
   "display_name": "Python 3",
   "language": "python",
   "name": "python3"
  },
  "language_info": {
   "codemirror_mode": {
    "name": "ipython",
    "version": 3
   },
   "file_extension": ".py",
   "mimetype": "text/x-python",
   "name": "python",
   "nbconvert_exporter": "python",
   "pygments_lexer": "ipython3",
   "version": "3.11.4"
  }
 },
 "nbformat": 4,
 "nbformat_minor": 5
}
